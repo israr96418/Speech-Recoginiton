{
 "cells": [
  {
   "cell_type": "markdown",
   "id": "2ea0a6e2",
   "metadata": {},
   "source": [
    "# speech recoginition"
   ]
  },
  {
   "cell_type": "markdown",
   "id": "7eb30bf1",
   "metadata": {},
   "source": [
    "## Convert speech to text by using google api"
   ]
  },
  {
   "cell_type": "code",
   "execution_count": 2,
   "id": "e767b62a",
   "metadata": {},
   "outputs": [
    {
     "name": "stdout",
     "output_type": "stream",
     "text": [
      "Collecting speechrecognition\n",
      "  Downloading SpeechRecognition-3.10.0-py2.py3-none-any.whl (32.8 MB)\n",
      "Requirement already satisfied: requests>=2.26.0 in c:\\users\\hp\\anaconda3\\lib\\site-packages (from speechrecognition) (2.27.1)\n",
      "Requirement already satisfied: certifi>=2017.4.17 in c:\\users\\hp\\anaconda3\\lib\\site-packages (from requests>=2.26.0->speechrecognition) (2022.12.7)\n",
      "Requirement already satisfied: idna<4,>=2.5 in c:\\users\\hp\\anaconda3\\lib\\site-packages (from requests>=2.26.0->speechrecognition) (3.3)\n",
      "Requirement already satisfied: urllib3<1.27,>=1.21.1 in c:\\users\\hp\\anaconda3\\lib\\site-packages (from requests>=2.26.0->speechrecognition) (1.26.9)\n",
      "Requirement already satisfied: charset-normalizer~=2.0.0 in c:\\users\\hp\\anaconda3\\lib\\site-packages (from requests>=2.26.0->speechrecognition) (2.0.4)\n",
      "Installing collected packages: speechrecognition\n",
      "Successfully installed speechrecognition-3.10.0\n"
     ]
    }
   ],
   "source": [
    "!pip install speechrecognition"
   ]
  },
  {
   "cell_type": "code",
   "execution_count": null,
   "id": "138c48c7",
   "metadata": {},
   "outputs": [],
   "source": [
    "!pip install "
   ]
  },
  {
   "cell_type": "code",
   "execution_count": 4,
   "id": "2cae89ec",
   "metadata": {},
   "outputs": [],
   "source": [
    "#import module\n",
    "import speech_recognition as sr\n",
    "\n",
    "#initialize module\n",
    "recoginition = sr.Recognizer()"
   ]
  },
  {
   "cell_type": "markdown",
   "id": "a1b510da",
   "metadata": {},
   "source": [
    "### Convert speech to Text"
   ]
  },
  {
   "cell_type": "code",
   "execution_count": 8,
   "id": "ba01ec2d",
   "metadata": {},
   "outputs": [
    {
     "name": "stdout",
     "output_type": "stream",
     "text": [
      "speak now.....\n",
      "please say again\n",
      "speak now.....\n",
      "please say again\n",
      "speak now.....\n",
      "speaker: how are you\n",
      "speak now.....\n",
      "speaker: come here\n",
      "speak now.....\n",
      "please say again\n",
      "speak now.....\n",
      "speaker: quit\n"
     ]
    }
   ],
   "source": [
    "while True:\n",
    "    with sr.Microphone() as source:\n",
    "        #clear background noise\n",
    "        recoginition.adjust_for_ambient_noise(source, duration=0.3)\n",
    "        print(\"speak now.....\")\n",
    "        #capture audio\n",
    "        audo = recoginition.listen(source)\n",
    "        \n",
    "        try:\n",
    "            text = recoginition.recognize_google(audo)\n",
    "            print('speaker:', text)\n",
    "            if text == 'quit':\n",
    "                break\n",
    "        except:\n",
    "            print('please say again')\n",
    "        "
   ]
  },
  {
   "cell_type": "markdown",
   "id": "8c2b527e",
   "metadata": {},
   "source": [
    "###### convert audo to text"
   ]
  },
  {
   "cell_type": "code",
   "execution_count": 16,
   "id": "23bf80d4",
   "metadata": {},
   "outputs": [
    {
     "name": "stdout",
     "output_type": "stream",
     "text": [
      "Listing to audio\n",
      "speaker: welcome to speech recognition\n"
     ]
    }
   ],
   "source": [
    "with sr.AudioFile('test.wav') as source:\n",
    "    print('Listing to audio')\n",
    "      #capture audio\n",
    "    audo = recoginition.listen(source)\n",
    "    try:\n",
    "            text = recoginition.recognize_google(audo)\n",
    "            print('speaker:', text)\n",
    "    except:\n",
    "        print('please say again')\n",
    "      \n",
    "        \n",
    "       \n",
    "        "
   ]
  },
  {
   "cell_type": "code",
   "execution_count": null,
   "id": "9b9df5eb",
   "metadata": {},
   "outputs": [],
   "source": []
  }
 ],
 "metadata": {
  "kernelspec": {
   "display_name": "Python 3 (ipykernel)",
   "language": "python",
   "name": "python3"
  },
  "language_info": {
   "codemirror_mode": {
    "name": "ipython",
    "version": 3
   },
   "file_extension": ".py",
   "mimetype": "text/x-python",
   "name": "python",
   "nbconvert_exporter": "python",
   "pygments_lexer": "ipython3",
   "version": "3.9.12"
  }
 },
 "nbformat": 4,
 "nbformat_minor": 5
}
